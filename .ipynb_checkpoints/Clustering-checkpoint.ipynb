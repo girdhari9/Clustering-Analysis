{
 "cells": [
  {
   "cell_type": "code",
   "execution_count": null,
   "metadata": {},
   "outputs": [],
   "source": [
    "import pandas as pd\n",
    "import numpy as np\n",
    "import operator\n",
    "def dict_sort_des(diction):\n",
    "    sorted_d = sorted(diction.items(), key=operator.itemgetter(1), reverse = True)\n",
    "    return sorted_d\n",
    "# !pip3 install plotly --user\n",
    "# for basic mathematics operation \n",
    "import numpy as np\n",
    "import pandas as pd\n",
    "from pandas import plotting\n",
    "\n",
    "# for visualizations\n",
    "import matplotlib.pyplot as plt\n",
    "import seaborn as sns\n",
    "plt.style.use('fivethirtyeight')\n",
    "\n",
    "# for interactive visualizations\n",
    "import plotly.offline as py\n",
    "from plotly.offline import init_notebook_mode, iplot\n",
    "import plotly.graph_objs as go\n",
    "from plotly import tools\n",
    "init_notebook_mode(connected = True)\n",
    "import plotly.figure_factory as ff"
   ]
  },
  {
   "cell_type": "code",
   "execution_count": null,
   "metadata": {},
   "outputs": [],
   "source": [
    "df = pd.read_csv('movies.csv', encoding = \"ISO-8859-1\")\n",
    "df.head()"
   ]
  },
  {
   "cell_type": "code",
   "execution_count": null,
   "metadata": {},
   "outputs": [],
   "source": [
    "df = df.drop(['name', 'director','company','writer','released', 'star'], axis=1)\n",
    "#name, director, company, writer, released, star.\n",
    "df.head()"
   ]
  },
  {
   "cell_type": "code",
   "execution_count": null,
   "metadata": {},
   "outputs": [],
   "source": [
    "list(set(df['genre']))"
   ]
  },
  {
   "cell_type": "code",
   "execution_count": null,
   "metadata": {},
   "outputs": [],
   "source": [
    "# label encoding the data \n",
    "from sklearn.preprocessing import LabelEncoder \n",
    "\n",
    "le = LabelEncoder() \n",
    "\n",
    "df['country']= le.fit_transform(df['country']) \n",
    "df['genre']= le.fit_transform(df['genre']) \n",
    "df['rating']= le.fit_transform(df['rating']) \n",
    "\n",
    "df.head()"
   ]
  },
  {
   "cell_type": "code",
   "execution_count": null,
   "metadata": {},
   "outputs": [],
   "source": [
    "for index in ['budget', 'gross', 'runtime', 'score', 'votes', 'year']:\n",
    "    print(index, 'min =', df[index].min(), '&', index, 'max =', df[index].max())"
   ]
  },
  {
   "cell_type": "code",
   "execution_count": null,
   "metadata": {},
   "outputs": [],
   "source": [
    "import warnings\n",
    "warnings.filterwarnings('ignore')\n",
    "\n",
    "plt.rcParams['figure.figsize'] = (15, 8)\n",
    "sns.countplot(df['genre'], palette = 'hsv')\n",
    "plt.title('Distribution of Genre', fontsize = 20)\n",
    "plt.show()\n",
    "\n",
    "plt.rcParams['figure.figsize'] = (15, 8)\n",
    "sns.countplot(df['score'], palette = 'hsv')\n",
    "plt.title('Distribution of Score', fontsize = 20)\n",
    "plt.show()\n",
    "\n",
    "\n",
    "plt.rcParams['figure.figsize'] = (15, 8)\n",
    "sns.countplot(df['votes'], palette = 'hsv')\n",
    "plt.title('Distribution of Votes', fontsize = 20)\n",
    "plt.show()\n",
    "\n",
    "plt.rcParams['figure.figsize'] = (15, 8)\n",
    "sns.countplot(df['runtime'], palette = 'hsv')\n",
    "plt.title('Distribution of Runtime', fontsize = 20)\n",
    "plt.show()"
   ]
  }
 ],
 "metadata": {
  "kernelspec": {
   "display_name": "Python 3",
   "language": "python",
   "name": "python3"
  },
  "language_info": {
   "codemirror_mode": {
    "name": "ipython",
    "version": 3
   },
   "file_extension": ".py",
   "mimetype": "text/x-python",
   "name": "python",
   "nbconvert_exporter": "python",
   "pygments_lexer": "ipython3",
   "version": "3.6.8"
  }
 },
 "nbformat": 4,
 "nbformat_minor": 2
}
